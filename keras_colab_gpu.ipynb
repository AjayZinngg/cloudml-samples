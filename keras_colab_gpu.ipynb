{
  "nbformat": 4,
  "nbformat_minor": 0,
  "metadata": {
    "colab": {
      "name": "keras_colab_gpu.ipynb",
      "version": "0.3.2",
      "provenance": [],
      "include_colab_link": true
    },
    "kernelspec": {
      "name": "python3",
      "display_name": "Python 3"
    },
    "accelerator": "GPU"
  },
  "cells": [
    {
      "cell_type": "markdown",
      "metadata": {
        "id": "view-in-github",
        "colab_type": "text"
      },
      "source": [
        "[View in Colaboratory](https://colab.research.google.com/github/GoogleCloudPlatform/cloudml-samples/blob/autoencoder_keras/keras_colab_gpu.ipynb)"
      ]
    },
    {
      "metadata": {
        "id": "8hQHiY9VBjZ9",
        "colab_type": "code",
        "colab": {}
      },
      "cell_type": "code",
      "source": [
        "#Using tf.keras is as simple as changing one import line\n",
        "from tensorflow import keras"
      ],
      "execution_count": 0,
      "outputs": []
    },
    {
      "metadata": {
        "id": "hBCfvEfPBk3N",
        "colab_type": "code",
        "colab": {
          "base_uri": "https://localhost:8080/",
          "height": 35
        },
        "outputId": "997eec0d-3ae9-4870-f6da-7cbfa538ecdd"
      },
      "cell_type": "code",
      "source": [
        "from keras.layers import Input, Dense\n",
        "from keras.models import Model\n",
        "\n",
        "# this is the size of our encoded representations\n",
        "encoding_dim = 32  # 32 floats -> compression of factor 24.5, assuming the input is 784 floats\n",
        "\n",
        "# this is our input placeholder\n",
        "input_img = Input(shape=(784,))\n",
        "# \"encoded\" is the encoded representation of the input\n",
        "encoded = Dense(encoding_dim, activation='relu')(input_img)\n",
        "# \"decoded\" is the lossy reconstruction of the input\n",
        "decoded = Dense(784, activation='sigmoid')(encoded)\n",
        "\n",
        "# this model maps an input to its reconstruction\n",
        "autoencoder = Model(input_img, decoded)"
      ],
      "execution_count": 0,
      "outputs": [
        {
          "output_type": "stream",
          "text": [
            "Using TensorFlow backend.\n"
          ],
          "name": "stderr"
        }
      ]
    },
    {
      "metadata": {
        "id": "igRmYZub7lgG",
        "colab_type": "code",
        "colab": {}
      },
      "cell_type": "code",
      "source": [
        "# this model maps an input to its encoded representation\n",
        "encoder = Model(input_img, encoded)"
      ],
      "execution_count": 0,
      "outputs": []
    },
    {
      "metadata": {
        "id": "enE6leRL7pZX",
        "colab_type": "code",
        "colab": {}
      },
      "cell_type": "code",
      "source": [
        "# create a placeholder for an encoded (32-dimensional) input\n",
        "encoded_input = Input(shape=(encoding_dim,))\n",
        "# retrieve the last layer of the autoencoder model\n",
        "decoder_layer = autoencoder.layers[-1]\n",
        "# create the decoder model\n",
        "decoder = Model(encoded_input, decoder_layer(encoded_input))"
      ],
      "execution_count": 0,
      "outputs": []
    },
    {
      "metadata": {
        "id": "_km3743B73_O",
        "colab_type": "code",
        "colab": {}
      },
      "cell_type": "code",
      "source": [
        "autoencoder.compile(optimizer='adadelta', loss='binary_crossentropy')"
      ],
      "execution_count": 0,
      "outputs": []
    },
    {
      "metadata": {
        "id": "ebUFoVpB78G3",
        "colab_type": "code",
        "colab": {
          "base_uri": "https://localhost:8080/",
          "height": 53
        },
        "outputId": "bb1cf8a1-9966-4219-d089-2612c6c6b6eb"
      },
      "cell_type": "code",
      "source": [
        "from keras.datasets import mnist\n",
        "import numpy as np\n",
        "(x_train, _), (x_test, _) = mnist.load_data()"
      ],
      "execution_count": 0,
      "outputs": [
        {
          "output_type": "stream",
          "text": [
            "Downloading data from https://s3.amazonaws.com/img-datasets/mnist.npz\n",
            "11493376/11490434 [==============================] - 7s 1us/step\n"
          ],
          "name": "stdout"
        }
      ]
    },
    {
      "metadata": {
        "id": "TzSYVqeZ8AMA",
        "colab_type": "code",
        "colab": {
          "base_uri": "https://localhost:8080/",
          "height": 53
        },
        "outputId": "6fc7def7-1506-498e-ec77-d0ad4c5f07ec"
      },
      "cell_type": "code",
      "source": [
        "x_train = x_train.astype('float32') / 255.\n",
        "x_test = x_test.astype('float32') / 255.\n",
        "x_train = x_train.reshape((len(x_train), np.prod(x_train.shape[1:])))\n",
        "x_test = x_test.reshape((len(x_test), np.prod(x_test.shape[1:])))\n",
        "print(x_train.shape)\n",
        "print (x_test.shape)"
      ],
      "execution_count": 0,
      "outputs": [
        {
          "output_type": "stream",
          "text": [
            "(60000, 784)\n",
            "(10000, 784)\n"
          ],
          "name": "stdout"
        }
      ]
    },
    {
      "metadata": {
        "id": "6opFYem68Fqv",
        "colab_type": "code",
        "colab": {
          "base_uri": "https://localhost:8080/",
          "height": 1853
        },
        "outputId": "5f7e7b1d-9060-490b-e7c5-74a9a138dc49"
      },
      "cell_type": "code",
      "source": [
        "autoencoder.fit(x_train, x_train,\n",
        "                epochs=50,\n",
        "                batch_size=256,\n",
        "                shuffle=True,\n",
        "                validation_data=(x_test, x_test))"
      ],
      "execution_count": 0,
      "outputs": [
        {
          "output_type": "stream",
          "text": [
            "Train on 60000 samples, validate on 10000 samples\n",
            "Epoch 1/50\n",
            "60000/60000 [==============================] - 2s 38us/step - loss: 0.3584 - val_loss: 0.2705\n",
            "Epoch 2/50\n",
            "60000/60000 [==============================] - 1s 25us/step - loss: 0.2624 - val_loss: 0.2505\n",
            "Epoch 3/50\n",
            "60000/60000 [==============================] - 1s 25us/step - loss: 0.2393 - val_loss: 0.2264\n",
            "Epoch 4/50\n",
            "60000/60000 [==============================] - 1s 25us/step - loss: 0.2189 - val_loss: 0.2098\n",
            "Epoch 5/50\n",
            "60000/60000 [==============================] - 1s 25us/step - loss: 0.2050 - val_loss: 0.1981\n",
            "Epoch 6/50\n",
            "60000/60000 [==============================] - 1s 25us/step - loss: 0.1949 - val_loss: 0.1891\n",
            "Epoch 7/50\n",
            "60000/60000 [==============================] - 1s 24us/step - loss: 0.1865 - val_loss: 0.1814\n",
            "Epoch 8/50\n",
            "60000/60000 [==============================] - 1s 25us/step - loss: 0.1794 - val_loss: 0.1748\n",
            "Epoch 9/50\n",
            "60000/60000 [==============================] - 1s 25us/step - loss: 0.1732 - val_loss: 0.1690\n",
            "Epoch 10/50\n",
            "60000/60000 [==============================] - 1s 25us/step - loss: 0.1678 - val_loss: 0.1640\n",
            "Epoch 11/50\n",
            "60000/60000 [==============================] - 1s 25us/step - loss: 0.1631 - val_loss: 0.1598\n",
            "Epoch 12/50\n",
            "60000/60000 [==============================] - 1s 24us/step - loss: 0.1589 - val_loss: 0.1556\n",
            "Epoch 13/50\n",
            "60000/60000 [==============================] - 1s 24us/step - loss: 0.1550 - val_loss: 0.1519\n",
            "Epoch 14/50\n",
            "60000/60000 [==============================] - 1s 24us/step - loss: 0.1515 - val_loss: 0.1485\n",
            "Epoch 15/50\n",
            "60000/60000 [==============================] - 1s 25us/step - loss: 0.1484 - val_loss: 0.1455\n",
            "Epoch 16/50\n",
            "60000/60000 [==============================] - 1s 25us/step - loss: 0.1455 - val_loss: 0.1428\n",
            "Epoch 17/50\n",
            "60000/60000 [==============================] - 1s 25us/step - loss: 0.1429 - val_loss: 0.1404\n",
            "Epoch 18/50\n",
            "60000/60000 [==============================] - 2s 26us/step - loss: 0.1406 - val_loss: 0.1381\n",
            "Epoch 19/50\n",
            "60000/60000 [==============================] - 2s 26us/step - loss: 0.1383 - val_loss: 0.1358\n",
            "Epoch 20/50\n",
            "60000/60000 [==============================] - 2s 26us/step - loss: 0.1362 - val_loss: 0.1337\n",
            "Epoch 21/50\n",
            "60000/60000 [==============================] - 2s 26us/step - loss: 0.1341 - val_loss: 0.1318\n",
            "Epoch 22/50\n",
            "60000/60000 [==============================] - 2s 26us/step - loss: 0.1321 - val_loss: 0.1297\n",
            "Epoch 23/50\n",
            "60000/60000 [==============================] - 2s 26us/step - loss: 0.1302 - val_loss: 0.1279\n",
            "Epoch 24/50\n",
            "60000/60000 [==============================] - 2s 26us/step - loss: 0.1283 - val_loss: 0.1260\n",
            "Epoch 25/50\n",
            "60000/60000 [==============================] - 2s 25us/step - loss: 0.1265 - val_loss: 0.1241\n",
            "Epoch 26/50\n",
            "60000/60000 [==============================] - 2s 25us/step - loss: 0.1247 - val_loss: 0.1223\n",
            "Epoch 27/50\n",
            "60000/60000 [==============================] - 2s 25us/step - loss: 0.1229 - val_loss: 0.1206\n",
            "Epoch 28/50\n",
            "60000/60000 [==============================] - 2s 26us/step - loss: 0.1213 - val_loss: 0.1190\n",
            "Epoch 29/50\n",
            "60000/60000 [==============================] - 2s 26us/step - loss: 0.1197 - val_loss: 0.1175\n",
            "Epoch 30/50\n",
            "60000/60000 [==============================] - 2s 25us/step - loss: 0.1183 - val_loss: 0.1160\n",
            "Epoch 31/50\n",
            "60000/60000 [==============================] - 2s 25us/step - loss: 0.1169 - val_loss: 0.1146\n",
            "Epoch 32/50\n",
            "60000/60000 [==============================] - 2s 25us/step - loss: 0.1156 - val_loss: 0.1134\n",
            "Epoch 33/50\n",
            "60000/60000 [==============================] - 2s 25us/step - loss: 0.1144 - val_loss: 0.1123\n",
            "Epoch 34/50\n",
            "60000/60000 [==============================] - 1s 25us/step - loss: 0.1133 - val_loss: 0.1112\n",
            "Epoch 35/50\n",
            "60000/60000 [==============================] - 1s 25us/step - loss: 0.1123 - val_loss: 0.1102\n",
            "Epoch 36/50\n",
            "60000/60000 [==============================] - 2s 25us/step - loss: 0.1113 - val_loss: 0.1093\n",
            "Epoch 37/50\n",
            "60000/60000 [==============================] - 1s 25us/step - loss: 0.1105 - val_loss: 0.1085\n",
            "Epoch 38/50\n",
            "60000/60000 [==============================] - 1s 25us/step - loss: 0.1097 - val_loss: 0.1078\n",
            "Epoch 39/50\n",
            "60000/60000 [==============================] - 1s 25us/step - loss: 0.1090 - val_loss: 0.1070\n",
            "Epoch 40/50\n",
            "60000/60000 [==============================] - 1s 25us/step - loss: 0.1083 - val_loss: 0.1064\n",
            "Epoch 41/50\n",
            "60000/60000 [==============================] - 1s 25us/step - loss: 0.1077 - val_loss: 0.1058\n",
            "Epoch 42/50\n",
            "60000/60000 [==============================] - 1s 25us/step - loss: 0.1071 - val_loss: 0.1052\n",
            "Epoch 43/50\n",
            "60000/60000 [==============================] - 1s 25us/step - loss: 0.1066 - val_loss: 0.1047\n",
            "Epoch 44/50\n",
            "60000/60000 [==============================] - 1s 25us/step - loss: 0.1061 - val_loss: 0.1042\n",
            "Epoch 45/50\n",
            "60000/60000 [==============================] - 1s 24us/step - loss: 0.1056 - val_loss: 0.1038\n",
            "Epoch 46/50\n",
            "60000/60000 [==============================] - 1s 25us/step - loss: 0.1052 - val_loss: 0.1033\n",
            "Epoch 47/50\n",
            "60000/60000 [==============================] - 1s 25us/step - loss: 0.1048 - val_loss: 0.1029\n",
            "Epoch 48/50\n",
            "60000/60000 [==============================] - 1s 25us/step - loss: 0.1044 - val_loss: 0.1026\n",
            "Epoch 49/50\n",
            "60000/60000 [==============================] - 1s 25us/step - loss: 0.1040 - val_loss: 0.1022\n",
            "Epoch 50/50\n",
            "60000/60000 [==============================] - 1s 25us/step - loss: 0.1037 - val_loss: 0.1019\n"
          ],
          "name": "stdout"
        },
        {
          "output_type": "execute_result",
          "data": {
            "text/plain": [
              "<keras.callbacks.History at 0x7f7bd96eb940>"
            ]
          },
          "metadata": {
            "tags": []
          },
          "execution_count": 9
        }
      ]
    },
    {
      "metadata": {
        "id": "8pkINuwn8Nk4",
        "colab_type": "code",
        "colab": {}
      },
      "cell_type": "code",
      "source": [
        "# encode and decode some digits\n",
        "# note that we take them from the *test* set\n",
        "encoded_imgs = encoder.predict(x_test)\n",
        "decoded_imgs = decoder.predict(encoded_imgs)"
      ],
      "execution_count": 0,
      "outputs": []
    },
    {
      "metadata": {
        "id": "N-YgjS7u-A6n",
        "colab_type": "code",
        "colab": {
          "base_uri": "https://localhost:8080/",
          "height": 244
        },
        "outputId": "5ddf8ebf-a24a-4113-e353-319b73b7fc0d"
      },
      "cell_type": "code",
      "source": [
        "# use Matplotlib (don't ask)\n",
        "import matplotlib.pyplot as plt\n",
        "\n",
        "n = 10  # how many digits we will display\n",
        "plt.figure(figsize=(20, 4))\n",
        "for i in range(n):\n",
        "    # display original\n",
        "    ax = plt.subplot(2, n, i + 1)\n",
        "    plt.imshow(x_test[i].reshape(28, 28))\n",
        "    plt.gray()\n",
        "    ax.get_xaxis().set_visible(False)\n",
        "    ax.get_yaxis().set_visible(False)\n",
        "\n",
        "    # display reconstruction\n",
        "    ax = plt.subplot(2, n, i + 1 + n)\n",
        "    plt.imshow(decoded_imgs[i].reshape(28, 28))\n",
        "    plt.gray()\n",
        "    ax.get_xaxis().set_visible(False)\n",
        "    ax.get_yaxis().set_visible(False)\n",
        "plt.show()"
      ],
      "execution_count": 0,
      "outputs": [
        {
          "output_type": "display_data",
          "data": {
            "image/png": "[encoded data removed]",
            "text/plain": [
              "<matplotlib.figure.Figure at 0x7f7bcdb0a240>"
            ]
          },
          "metadata": {
            "tags": []
          }
        }
      ]
    },
    {
      "metadata": {
        "id": "dMlR7nFu-hSg",
        "colab_type": "code",
        "colab": {}
      },
      "cell_type": "code",
      "source": [
        ""
      ],
      "execution_count": 0,
      "outputs": []
    }
  ]
}